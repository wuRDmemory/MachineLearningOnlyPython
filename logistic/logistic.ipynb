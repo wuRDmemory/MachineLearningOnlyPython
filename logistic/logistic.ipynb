{
 "cells": [
  {
   "cell_type": "markdown",
   "metadata": {},
   "source": [
    "## logistic回归\n",
    "\n",
    "1. 梯度上升法"
   ]
  },
  {
   "cell_type": "code",
   "execution_count": 4,
   "metadata": {},
   "outputs": [],
   "source": [
    "%matplotlib inline\n",
    "\n",
    "import numpy as np\n",
    "from matplotlib import pyplot as plt"
   ]
  },
  {
   "cell_type": "code",
   "execution_count": 14,
   "metadata": {},
   "outputs": [],
   "source": [
    "def load_dataset(file_path):\n",
    "    datas = []\n",
    "    with open(file_path, 'r') as fp:\n",
    "        for line in fp.readlines():\n",
    "            line = line.strip()\n",
    "            elem = line.split('\\t')\n",
    "            datas.append([1] + [float(x) for x in elem])\n",
    "    out = np.array(datas)\n",
    "    return out[:,:3], out[:,3].astype(np.uint8)"
   ]
  },
  {
   "cell_type": "code",
   "execution_count": 15,
   "metadata": {},
   "outputs": [
    {
     "name": "stdout",
     "output_type": "stream",
     "text": [
      "(100, 3)\n",
      "(100,)\n"
     ]
    }
   ],
   "source": [
    "dataset, labels = load_dataset('testSet.txt')\n",
    "print(dataset.shape)\n",
    "print(labels.shape)"
   ]
  },
  {
   "cell_type": "markdown",
   "metadata": {},
   "source": [
    "## sigmoid函数\n",
    "\n",
    "sigmoid函数是logistics回归中核心的一个函数，该函数把回归之后的模型值映射到0~1之间"
   ]
  },
  {
   "cell_type": "code",
   "execution_count": 18,
   "metadata": {},
   "outputs": [],
   "source": [
    "'''\n",
    "sigmoid 函数\n",
    "'''\n",
    "def sigmoid(x):\n",
    "    return 1/(1+np.exp(-x))\n",
    "\n",
    "'''\n",
    "deviation\n",
    "'''\n",
    "def getDeviation(w, x, y):\n",
    "    z = np.dot(x, w)\n",
    "    yHat = sigmoid(z)\n",
    "    return np.dot(x.T, (y - yHat))\n",
    "\n",
    "'''\n",
    "train\n",
    "'''\n",
    "def train(dataset, labels, iter_cnt, alpha):\n",
    "    labels = labels.reshape(-1, 1)\n",
    "    n, m = dataset.shape\n",
    "    w = np.zeros((m, 1))\n",
    "    for i in range(iter_cnt):\n",
    "        w = w + alpha*getDeviation(w, dataset, labels)\n",
    "    return w\n",
    "\n",
    "w = train(dataset, labels, 500, 0.001)"
   ]
  },
  {
   "cell_type": "code",
   "execution_count": 19,
   "metadata": {},
   "outputs": [
    {
     "data": {
      "text/plain": [
       "array([[ 3.90548504],\n",
       "       [ 0.46094335],\n",
       "       [-0.58933895]])"
      ]
     },
     "execution_count": 19,
     "metadata": {},
     "output_type": "execute_result"
    }
   ],
   "source": [
    "w"
   ]
  },
  {
   "cell_type": "code",
   "execution_count": 23,
   "metadata": {},
   "outputs": [
    {
     "data": {
      "image/png": "[encoded data removed]",
      "text/plain": [
       "<Figure size 432x288 with 1 Axes>"
      ]
     },
     "metadata": {},
     "output_type": "display_data"
    }
   ],
   "source": [
    "'''\n",
    "draw the fitting model\n",
    "'''\n",
    "def plot_model(dataset, labels, w):\n",
    "    pos_slice = labels == 1\n",
    "    neg_slice = labels == 0\n",
    "    plt.scatter(dataset[pos_slice, 1], dataset[pos_slice, 2], c='r')\n",
    "    plt.scatter(dataset[neg_slice, 1], dataset[neg_slice, 2], c='g')\n",
    "    \n",
    "    min_x, max_x = dataset[:, 1].min(), dataset[:, 1].max()\n",
    "    plotx = np.linspace(min_x, max_x, 10)\n",
    "    ploty = -(w[0]+w[1]*plotx)/w[2]\n",
    "    \n",
    "    plt.plot(plotx, ploty, 'c')\n",
    "    \n",
    "plot_model(dataset, labels, w)"
   ]
  },
  {
   "cell_type": "code",
   "execution_count": null,
   "metadata": {},
   "outputs": [],
   "source": []
  }
 ],
 "metadata": {
  "kernelspec": {
   "display_name": "Python 3",
   "language": "python",
   "name": "python3"
  },
  "language_info": {
   "codemirror_mode": {
    "name": "ipython",
    "version": 3
   },
   "file_extension": ".py",
   "mimetype": "text/x-python",
   "name": "python",
   "nbconvert_exporter": "python",
   "pygments_lexer": "ipython3",
   "version": "3.6.5"
  }
 },
 "nbformat": 4,
 "nbformat_minor": 2
}
