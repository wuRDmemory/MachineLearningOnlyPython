{
 "cells": [
  {
   "cell_type": "markdown",
   "metadata": {},
   "source": [
    "# SVM算法\n",
    "\n",
    "主要是SMO(序列最小化优化算法)的实现"
   ]
  },
  {
   "cell_type": "code",
   "execution_count": 1,
   "metadata": {},
   "outputs": [],
   "source": [
    "%matplotlib inline\n",
    "\n",
    "import numpy as np\n",
    "import random\n",
    "import math\n",
    "from matplotlib import pyplot as plt"
   ]
  },
  {
   "cell_type": "code",
   "execution_count": 2,
   "metadata": {},
   "outputs": [],
   "source": [
    "'''\n",
    "load dataset\n",
    "parameter:\n",
    "    file_path: dataset's path\n",
    "'''\n",
    "def load_dataset(file_path):\n",
    "    context = []\n",
    "    with open(file_path, 'r') as fp:\n",
    "        for line in fp.readlines():\n",
    "            line = line.strip()\n",
    "            data = [float(ele) for ele in line.split('\\t')]\n",
    "            context.append(data)\n",
    "            \n",
    "    context = np.array(context)\n",
    "    return context[:,:2], context[:, 2].astype(np.int8)\n",
    "\n",
    "'''\n",
    "random select second alpha\n",
    "parameter:\n",
    "    i: first alpha index\n",
    "    m: number of alpha\n",
    "'''\n",
    "def select_second_alpha(i, m):\n",
    "    j = i\n",
    "    while (j == i):\n",
    "        j = random.uniform(0, m)\n",
    "    return j"
   ]
  },
  {
   "cell_type": "code",
   "execution_count": 3,
   "metadata": {},
   "outputs": [],
   "source": [
    "'''\n",
    "draw raw data\n",
    "parameter:\n",
    "    data: raw_data\n",
    "    labels: labels\n",
    "'''\n",
    "def draw_raw_data(data, labels):\n",
    "    pos_data = data[labels==1, :]\n",
    "    neg_data = data[labels==-1, :]\n",
    "    \n",
    "    plt.scatter(pos_data[:,0], pos_data[:,1], color='g')\n",
    "    plt.scatter(neg_data[:,0], neg_data[:,1], color='r')"
   ]
  },
  {
   "cell_type": "code",
   "execution_count": 4,
   "metadata": {},
   "outputs": [
    {
     "data": {
      "image/png": "[encoded data removed]",
      "text/plain": [
       "<Figure size 432x288 with 1 Axes>"
      ]
     },
     "metadata": {},
     "output_type": "display_data"
    }
   ],
   "source": [
    "data_file_path = './testSet.txt'\n",
    "data, labels = load_dataset(data_file_path)\n",
    "draw_raw_data(data, labels)"
   ]
  },
  {
   "cell_type": "markdown",
   "metadata": {},
   "source": [
    "## SMO算法（简单版本）\n",
    "\n",
    "1. 先选择一个$\\alpha$，之后再在剩余的$\\alpha$中选择另一个组成对\n",
    "2. 计算Ei和Ej\n",
    "3. 根据公式更新对应的alpha\n",
    "4. 随后更新b\n",
    "\n",
    "在对$\\alpha$更新的时候，注意\n",
    "1. 当$\\alpha \\in (0, C]$时，样本为正确分类或者支持向量，此时Ei应该很小或者大于0的，所以违反这个的话，要被更新\n",
    "2. 当$\\alpha \\in [0, C)$时，样本为错误分类或者支持向量，此时Ei应该很小或者小于0的，所以违反这个的话，要被更新"
   ]
  },
  {
   "cell_type": "code",
   "execution_count": null,
   "metadata": {},
   "outputs": [],
   "source": [
    "'''\n",
    "gxi, this is the hypre planar\n",
    "parameter:\n",
    "    data_mat: dataset matrix\n",
    "    labels: labels array\n",
    "    alpha: the array of alpha\n",
    "    b: the model's b\n",
    "    i: index of the alpha\n",
    "'''\n",
    "def gxi(data_mat, labels, alpha, b, i):\n",
    "    Kij = np.dot(data_mat, data_mat[i, :].T).squeeze()\n",
    "    return np.sum(alpha * labels * Kij) + b\n",
    "\n",
    "'''\n",
    "gxi, this is the hypre planar\n",
    "parameter:\n",
    "    data_mat: dataset matrix\n",
    "    labels: labels array\n",
    "    alpha: the array of alpha\n",
    "    b: the model's b\n",
    "    i: index of the alpha\n",
    "'''\n",
    "def SMO_simple(dataset, labels, C, toler, max_iter):\n",
    "    n, m = dataset.shape\n",
    "    alpha = np.zeros(n, np.float)\n",
    "    b = 0\n",
    "    # loop for enough times\n",
    "    for it in max_iter:\n",
    "        alpha_change = 0\n",
    "        # outer loop select every alpha\n",
    "        for i in range(n):\n",
    "            gx_i = gxi(dataset, labels, alpha, b, i)\n",
    "            Ei = gx_i - labels[i]\n",
    "            if all([labels[i]*Ei < -toler, alpha[i] < C, alpha[i] >= 0]) or \\\n",
    "               all([labels[i]*Ei > toler,  alpha[i] > 0, alpha[i] <= C]):\n",
    "                j = select_second_alpha(i, n)\n",
    "                gx_j = gxi(dataset, labels, alpha, b, i)\n",
    "                Ej = gx_j - labels[j]\n",
    "                \n",
    "                old_alpha_i = alpha[i]\n",
    "                old_alpha_j = alpha[j]\n",
    "                \n",
    "                if labels[i] != labels[j]:\n",
    "                    L = math.max(0, alpha[j]-alpha[i])\n",
    "                    H = math.min(C, C+alpha[j]-alpha[i])\n",
    "                else:\n",
    "                    L = math.max(0, alpha[i]+alpha[j]-C)\n",
    "                    H = math.min(C, alpha[i]+alpha[j])\n",
    "                \n",
    "                if L==H:\n",
    "                    continue\n",
    "                \n",
    "                eta = np.sum(dataset[i,:]**2) + np.sum(dataset[j,:]**2) - 2*np.sum(dataset[i,:]*dataset[j,:])\n",
    "                alpha[j] += labels[j]*(Ei-Ej)/eta\n",
    "                alpha[j] = max(L, alpha[j])\n",
    "                alpha[j] = min(H, alpha[j])\n",
    "                \n",
    "                if abs(alpha[j] - old_alpha_j) < 0.0001:\n",
    "                    print(\"j need not change!!!\")\n",
    "                    continue\n",
    "                \n",
    "                alpha[i] += labels[j]*labels[i]*(old_alpha_j - alpha[j])\n",
    "                \n",
    "                "
   ]
  }
 ],
 "metadata": {
  "kernelspec": {
   "display_name": "Python 3",
   "language": "python",
   "name": "python3"
  },
  "language_info": {
   "codemirror_mode": {
    "name": "ipython",
    "version": 3
   },
   "file_extension": ".py",
   "mimetype": "text/x-python",
   "name": "python",
   "nbconvert_exporter": "python",
   "pygments_lexer": "ipython3",
   "version": "3.5.2"
  }
 },
 "nbformat": 4,
 "nbformat_minor": 2
}
