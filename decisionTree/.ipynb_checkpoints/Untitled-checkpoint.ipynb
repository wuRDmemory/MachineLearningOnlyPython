{
 "cells": [
  {
   "cell_type": "markdown",
   "metadata": {},
   "source": [
    "## 导入必要的库"
   ]
  },
  {
   "cell_type": "code",
   "execution_count": 1,
   "metadata": {},
   "outputs": [],
   "source": [
    "import math\n",
    "import numpy as np\n",
    "from collections import Counter"
   ]
  },
  {
   "cell_type": "markdown",
   "metadata": {},
   "source": [
    "## 计算数据集的熵"
   ]
  },
  {
   "cell_type": "code",
   "execution_count": 16,
   "metadata": {},
   "outputs": [],
   "source": [
    "'''\n",
    "parameter:\n",
    "    dataset: numpy array\n",
    "    index: the feature to split the dataset\n",
    "'''\n",
    "def calculate_entropy(dataset, index=-1):\n",
    "    data = dataset[:, index].tolist()\n",
    "    data_counter = Counter(data)\n",
    "    \n",
    "    entropy = 0\n",
    "    N = len(dataset)\n",
    "    for k, v in data_counter.items():\n",
    "        pk = float(v)/N\n",
    "        entropy += -pk*math.log2(pk)\n",
    "    \n",
    "    return entropy"
   ]
  },
  {
   "cell_type": "code",
   "execution_count": 19,
   "metadata": {},
   "outputs": [
    {
     "name": "stdout",
     "output_type": "stream",
     "text": [
      "1.3709505944546687\n"
     ]
    }
   ],
   "source": [
    "dataset_list = [\n",
    "    [1, 1, 'maybe'],\n",
    "    [1, 1, 'yes'],\n",
    "    [1, 0, 'no'],\n",
    "    [0, 1, 'no'],\n",
    "    [0, 1, 'no']\n",
    "]\n",
    "\n",
    "dataset = np.array(dataset_list)\n",
    "print(calculate_entropy(dataset))"
   ]
  },
  {
   "cell_type": "markdown",
   "metadata": {},
   "source": [
    "## 根据对每一个特征，计算条件熵"
   ]
  },
  {
   "cell_type": "code",
   "execution_count": null,
   "metadata": {},
   "outputs": [],
   "source": [
    "def calculate_condition_entropy(dataset, index, label):\n",
    "    "
   ]
  }
 ],
 "metadata": {
  "kernelspec": {
   "display_name": "Python 3",
   "language": "python",
   "name": "python3"
  },
  "language_info": {
   "codemirror_mode": {
    "name": "ipython",
    "version": 3
   },
   "file_extension": ".py",
   "mimetype": "text/x-python",
   "name": "python",
   "nbconvert_exporter": "python",
   "pygments_lexer": "ipython3",
   "version": "3.5.2"
  }
 },
 "nbformat": 4,
 "nbformat_minor": 2
}
