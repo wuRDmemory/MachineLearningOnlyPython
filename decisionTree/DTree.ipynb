{
 "cells": [
  {
   "cell_type": "markdown",
   "metadata": {},
   "source": [
    "## 导入必要的库"
   ]
  },
  {
   "cell_type": "code",
   "execution_count": 3,
   "metadata": {},
   "outputs": [],
   "source": [
    "import math\n",
    "import numpy as np\n",
    "from collections import Counter"
   ]
  },
  {
   "cell_type": "markdown",
   "metadata": {},
   "source": [
    "## 计算数据集的熵"
   ]
  },
  {
   "cell_type": "code",
   "execution_count": 4,
   "metadata": {},
   "outputs": [],
   "source": [
    "'''\n",
    "parameter:\n",
    "    dataset: numpy array\n",
    "    index: the feature to split the dataset\n",
    "'''\n",
    "def calculate_entropy(dataset, index=-1):\n",
    "    data = dataset[:, index].tolist()\n",
    "    data_counter = Counter(data)\n",
    "    \n",
    "    entropy = 0\n",
    "    N = len(dataset)\n",
    "    for k, v in data_counter.items():\n",
    "        pk = float(v)/N\n",
    "        entropy += -pk*math.log2(pk)\n",
    "    \n",
    "    return entropy"
   ]
  },
  {
   "cell_type": "code",
   "execution_count": 12,
   "metadata": {},
   "outputs": [
    {
     "name": "stdout",
     "output_type": "stream",
     "text": [
      "0.9709505944546686\n"
     ]
    }
   ],
   "source": [
    "dataset_list = [\n",
    "    [1, 1, 'yes'],\n",
    "    [1, 1, 'yes'],\n",
    "    [1, 0, 'no'],\n",
    "    [0, 1, 'no'],\n",
    "    [0, 1, 'no']\n",
    "]\n",
    "labels = ['no surface', 'Flippers']\n",
    "\n",
    "dataset = np.array(dataset_list)\n",
    "print(calculate_entropy(dataset))"
   ]
  },
  {
   "cell_type": "markdown",
   "metadata": {},
   "source": [
    "## 以某一个特征对数据集进行分割"
   ]
  },
  {
   "cell_type": "code",
   "execution_count": 13,
   "metadata": {},
   "outputs": [],
   "source": [
    "'''\n",
    "parameter:\n",
    "    dataset: dataset\n",
    "    axis: index of axis\n",
    "    value: split point's value\n",
    "'''\n",
    "def split_dataset(dataset, axis, value):\n",
    "    ret_data_set=[]\n",
    "    axis_data = dataset[:, axis]\n",
    "    ret_data_set = dataset[axis_data==value, :]\n",
    "    ret_data_set = np.delete(ret_data_set, axis, 1)\n",
    "    return ret_data_set"
   ]
  },
  {
   "cell_type": "code",
   "execution_count": 14,
   "metadata": {},
   "outputs": [
    {
     "name": "stdout",
     "output_type": "stream",
     "text": [
      "[['1' 'no']]\n",
      "[['1' 'yes']\n",
      " ['1' 'yes']\n",
      " ['0' 'no']\n",
      " ['0' 'no']]\n"
     ]
    }
   ],
   "source": [
    "feature_axis = 1\n",
    "feature_set = np.unique(dataset[:, feature_axis])\n",
    "for feature in feature_set:\n",
    "    print(split_dataset(dataset, feature_axis, feature))"
   ]
  },
  {
   "cell_type": "markdown",
   "metadata": {},
   "source": [
    "## 选择最好的划分特征进行数据集的划分\n",
    "\n",
    "1. 遍历所有的特征\n",
    "2. 对于每一个特征，拿到该特征可取的所有值\n",
    "3. 对该值和特征进行数据集的划分，得到划分之后的子集\n",
    "4. 对于子集，计算条件熵和信息增益\n",
    "5. 选择信息增益最大的特征进行数据集的划分"
   ]
  },
  {
   "cell_type": "code",
   "execution_count": 15,
   "metadata": {},
   "outputs": [],
   "source": [
    "'''\n",
    "parameter:\n",
    "    dataset: dataset\n",
    "'''\n",
    "def choose_best_feature_to_split(dataset):\n",
    "    ''' calculate H(D) '''\n",
    "    HD = calculate_entropy(dataset)\n",
    "    \n",
    "    best_feature_axis = 0\n",
    "    best_entropy_gain = -np.inf\n",
    "    ''' choose best feature '''\n",
    "    N = dataset.shape[1]-1\n",
    "    for feat_axis in range(N):\n",
    "        feature_set = np.unique(dataset[:, feat_axis])\n",
    "        condition_entropy = 0\n",
    "        ''' each split value '''\n",
    "        for feature in feature_set:\n",
    "            sub_feature_set = split_dataset(dataset, feature_axis, feature)\n",
    "            pk = sub_feature_set.shape[0]/(N+1)\n",
    "            condition_entropy += pk*calculate_entropy(sub_feature_set)\n",
    "        entropy_gain = HD - condition_entropy\n",
    "        if entropy_gain > best_entropy_gain:\n",
    "            best_entropy_gain = entropy_gain\n",
    "            best_feature_axis = feat_axis\n",
    "    return best_feature_axis"
   ]
  },
  {
   "cell_type": "code",
   "execution_count": 16,
   "metadata": {},
   "outputs": [
    {
     "name": "stdout",
     "output_type": "stream",
     "text": [
      "0\n"
     ]
    }
   ],
   "source": [
    "best_feature_axis = choose_best_feature_to_split(dataset)\n",
    "print(best_feature_axis)"
   ]
  },
  {
   "cell_type": "code",
   "execution_count": 17,
   "metadata": {},
   "outputs": [
    {
     "name": "stdout",
     "output_type": "stream",
     "text": [
      "[['1' 'no']\n",
      " ['1' 'no']]\n",
      "[['1' 'yes']\n",
      " ['1' 'yes']\n",
      " ['0' 'no']]\n"
     ]
    }
   ],
   "source": [
    "feature_set = np.unique(dataset[:, best_feature_axis])\n",
    "for feature in feature_set:\n",
    "    print(split_dataset(dataset, best_feature_axis, feature))"
   ]
  },
  {
   "cell_type": "code",
   "execution_count": 18,
   "metadata": {},
   "outputs": [
    {
     "data": {
      "text/plain": [
       "array([['1', '1', 'yes'],\n",
       "       ['1', '1', 'yes'],\n",
       "       ['1', '0', 'no'],\n",
       "       ['0', '1', 'no'],\n",
       "       ['0', '1', 'no']], dtype='<U21')"
      ]
     },
     "execution_count": 18,
     "metadata": {},
     "output_type": "execute_result"
    }
   ],
   "source": [
    "dataset"
   ]
  },
  {
   "cell_type": "markdown",
   "metadata": {},
   "source": [
    "## 递归的创建决策树\n",
    "\n",
    "递归函数的描述:\n",
    "1. 终止条件：数据集中仅有一个类了或者没有特征再进行细分\n",
    "2. 不满足终止条件的话，继续选择最优的特征，之后按照最优特征分出子集，对子集进行递归"
   ]
  },
  {
   "cell_type": "code",
   "execution_count": 19,
   "metadata": {},
   "outputs": [],
   "source": [
    "'''\n",
    "choose the major class in dataset\n",
    "class_list: numpy type\n",
    "'''\n",
    "def major_class(class_list):\n",
    "    counter = Counter(class_list.tolist())\n",
    "    main_class = -1\n",
    "    main_num = -np.inf\n",
    "    for k, v in counter.items():\n",
    "        if v > main_num:\n",
    "            main_num = v\n",
    "            main_class = k\n",
    "    return main_class"
   ]
  },
  {
   "cell_type": "code",
   "execution_count": null,
   "metadata": {},
   "outputs": [],
   "source": [
    "'''\n",
    "create dtree in a recursive way\n",
    "parameter:\n",
    "    dataset: dataset\n",
    "    labels: labels of the features\n",
    "'''\n",
    "def create_dtree(dataset, labels):\n",
    "    class_list = dataset[:,-1]\n",
    "    ''' check terminal conditions '''\n",
    "    ''' if only one class in the dataset '''\n",
    "    if np.alltrue(class_list==class_list[0]):\n",
    "        return class_list[0]\n",
    "    ''' if there is no feature can be split '''\n",
    "    if len(dataset[0]) == 1:\n",
    "        return major_class(class_list)\n",
    "    \n",
    "    ''' choose best feature to split dataset '''\n",
    "    feat_axis = choose_best_feature_to_split(dataset)\n",
    "    "
   ]
  }
 ],
 "metadata": {
  "kernelspec": {
   "display_name": "Python 3",
   "language": "python",
   "name": "python3"
  },
  "language_info": {
   "codemirror_mode": {
    "name": "ipython",
    "version": 3
   },
   "file_extension": ".py",
   "mimetype": "text/x-python",
   "name": "python",
   "nbconvert_exporter": "python",
   "pygments_lexer": "ipython3",
   "version": "3.6.5"
  }
 },
 "nbformat": 4,
 "nbformat_minor": 2
}
