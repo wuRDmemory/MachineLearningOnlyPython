{
 "cells": [
  {
   "cell_type": "markdown",
   "metadata": {},
   "source": [
    "## 回归方法\n",
    "\n",
    "跟adaboost方法不同之处：\n",
    "1. 提升树每个分类器学习的是之前所有分类器的残差\n",
    "2. 提升树的组合方式是累加，没有权重"
   ]
  },
  {
   "cell_type": "code",
   "execution_count": 1,
   "metadata": {},
   "outputs": [],
   "source": [
    "%matplotlib inline\n",
    "\n",
    "import numpy as np"
   ]
  },
  {
   "cell_type": "code",
   "execution_count": null,
   "metadata": {},
   "outputs": [],
   "source": [
    "'''\n",
    "split_dataset\n",
    "parameter:\n",
    "    dataset: dataset\n",
    "    res: the fitting residual of the model\n",
    "    split: split point\n",
    "'''\n",
    "def split_dataset(dataset, res, split):\n",
    "    out = np.zeros_like(res)\n",
    "    \n",
    "    sub1 = dataset < split\n",
    "    sub2 = dataset >= split\n",
    "    \n",
    "    c1 = np.mean(dataset[sub1])\n",
    "    c2 = np.mean(dataset[sub2])\n",
    "    \n",
    "    out[sub1] = c1\n",
    "    out[sub2] = c2\n",
    "    \n",
    "    return out, c1, c2\n",
    "\n",
    "'''\n",
    "generate stump, iterate all feature and split point to get a best feature split value\n",
    "parameter:\n",
    "    \n",
    "'''\n",
    "def generate_stump(dataset, labels):\n",
    "    n, m = dataset.shape\n",
    "    \n",
    "    best_index = 0\n",
    "    best_split = 0\n",
    "    best_cs = [0, 0]\n",
    "    best_res = np.inf\n",
    "    max_step = 10\n",
    "    model = []\n",
    "    for i in range(m):\n",
    "        vec = dataset[:, i]\n",
    "        min_v, max_v = vec.min(). vec.max()\n",
    "        stride = (max_v - min_v)/max_step\n",
    "        for j in range(-1, max_step+1):\n",
    "            split_point = min_v + j*stride\n",
    "            pred, c1, c2 = split_dataset(vec, res, split_point)\n",
    "            res = labels - pred\n",
    "            norm_res = np.sqrt(np.sum(res*res))\n",
    "            if norm_res > best_res:\n",
    "                best_res = norm_res\n",
    "                best_index = i\n",
    "                best_split = split_point\n",
    "                best_cs = [c1, c2]\n",
    "    return best_index, best_split, best_cs\n"
   ]
  }
 ],
 "metadata": {
  "kernelspec": {
   "display_name": "Python 3",
   "language": "python",
   "name": "python3"
  },
  "language_info": {
   "codemirror_mode": {
    "name": "ipython",
    "version": 3
   },
   "file_extension": ".py",
   "mimetype": "text/x-python",
   "name": "python",
   "nbconvert_exporter": "python",
   "pygments_lexer": "ipython3",
   "version": "3.6.5"
  }
 },
 "nbformat": 4,
 "nbformat_minor": 2
}
