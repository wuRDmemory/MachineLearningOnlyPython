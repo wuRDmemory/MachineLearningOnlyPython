{
 "cells": [
  {
   "cell_type": "markdown",
   "metadata": {},
   "source": [
    "## 导入必要的库"
   ]
  },
  {
   "cell_type": "code",
   "execution_count": 1,
   "metadata": {
    "collapsed": true
   },
   "outputs": [],
   "source": [
    "%matplotlib inline\n",
    "\n",
    "import random\n",
    "import numpy as np\n",
    "from math import *\n",
    "from matplotlib import pyplot as plt"
   ]
  },
  {
   "cell_type": "code",
   "execution_count": 2,
   "metadata": {
    "collapsed": true
   },
   "outputs": [],
   "source": [
    "def loadDataSet():\n",
    "    postingList=[['my', 'dog', 'has', 'flea', 'problems', 'help', 'please'],\n",
    "                 ['maybe', 'not', 'take', 'him', 'to', 'dog', 'park', 'stupid'],\n",
    "                 ['my', 'dalmation', 'is', 'so', 'cute', 'I', 'love', 'him'],\n",
    "                 ['stop', 'posting', 'stupid', 'worthless', 'garbage'],\n",
    "                 ['mr', 'licks', 'ate', 'my', 'steak', 'how', 'to', 'stop', 'him'],\n",
    "                 ['quit', 'buying', 'worthless', 'dog', 'food', 'stupid']]\n",
    "    classVec = [0,1,0,1,0,1]    #1 is abusive, 0 not\n",
    "    return postingList,classVec"
   ]
  },
  {
   "cell_type": "markdown",
   "metadata": {},
   "source": [
    "## 根据样本生成词向量\n",
    "这里使用map也可以，使用set也可以"
   ]
  },
  {
   "cell_type": "code",
   "execution_count": 3,
   "metadata": {
    "collapsed": true
   },
   "outputs": [],
   "source": [
    "def buildWordVec(wordLists):\n",
    "    wordVec = set([])\n",
    "    for words in wordLists:\n",
    "        wordVec = wordVec | set(words)\n",
    "    return list(wordVec)"
   ]
  },
  {
   "cell_type": "code",
   "execution_count": 4,
   "metadata": {},
   "outputs": [
    {
     "name": "stdout",
     "output_type": "stream",
     "text": [
      "['my', 'ate', 'licks', 'so', 'not', 'to', 'maybe', 'dalmation', 'him', 'how', 'help', 'park', 'stop', 'problems', 'love', 'dog', 'has', 'please', 'cute', 'steak', 'stupid', 'worthless', 'mr', 'I', 'flea', 'food', 'quit', 'is', 'garbage', 'take', 'buying', 'posting']\n"
     ]
    }
   ],
   "source": [
    "dataset, datalabel = loadDataSet()\n",
    "wordVec = buildWordVec(dataset)\n",
    "print(wordVec)"
   ]
  },
  {
   "cell_type": "markdown",
   "metadata": {},
   "source": [
    "## 把句子转换为词向量\n",
    "使用list"
   ]
  },
  {
   "cell_type": "code",
   "execution_count": 5,
   "metadata": {
    "collapsed": true
   },
   "outputs": [],
   "source": [
    "def setOfWordVec(wordVec, words):\n",
    "    N = len(wordVec)\n",
    "    res = [0]*N\n",
    "    for word in words:\n",
    "        if word in wordVec:\n",
    "            res[wordVec.index(word)] = 1\n",
    "    return res"
   ]
  },
  {
   "cell_type": "code",
   "execution_count": 6,
   "metadata": {},
   "outputs": [
    {
     "name": "stdout",
     "output_type": "stream",
     "text": [
      "['my', 'ate', 'licks', 'so', 'not', 'to', 'maybe', 'dalmation', 'him', 'how', 'help', 'park', 'stop', 'problems', 'love', 'dog', 'has', 'please', 'cute', 'steak', 'stupid', 'worthless', 'mr', 'I', 'flea', 'food', 'quit', 'is', 'garbage', 'take', 'buying', 'posting']\n",
      "[0, 1, 2, 3, 4, 5, 6, 7, 8, 9, 10, 11, 12, 13, 14, 15, 16, 17, 18, 19, 20, 21, 22, 23, 24, 25, 26, 27, 28, 29, 30, 31]\n",
      "[1, 0, 0, 0, 0, 0, 0, 0, 0, 0, 0, 0, 0, 0, 0, 1, 0, 0, 0, 0, 0, 0, 0, 0, 0, 0, 1, 1, 0, 0, 0, 0]\n"
     ]
    }
   ],
   "source": [
    "test_words = ['my', 'dog', 'is', 'quit']\n",
    "test_res = setOfWordVec(wordVec, test_words)\n",
    "index = list(range(len(wordVec)))\n",
    "print(wordVec)\n",
    "print(index)\n",
    "print(test_res)"
   ]
  },
  {
   "cell_type": "markdown",
   "metadata": {},
   "source": [
    "## 训练函数"
   ]
  },
  {
   "cell_type": "code",
   "execution_count": 7,
   "metadata": {
    "collapsed": true
   },
   "outputs": [],
   "source": [
    "def trainNBS(train_data, train_lables, wordVec):\n",
    "    ''' set of train labels '''\n",
    "    label_v = list(set(train_lables))\n",
    "    label_N = len(label_v)\n",
    "    vec_len = len(wordVec)\n",
    "    Ps = np.zeros((label_N, vec_len))\n",
    "    Ns = np.zeros((label_N, 1))\n",
    "    for data, label in zip(train_data, train_lables):\n",
    "        vec = setOfWordVec(wordVec, data)\n",
    "        idx = label_v.index(label)\n",
    "        Ps[idx] += np.array(vec)\n",
    "        Ns[idx] += 1\n",
    "    return Ps/Ns, Ns.squeeze()/len(train_lables)"
   ]
  },
  {
   "cell_type": "code",
   "execution_count": 8,
   "metadata": {
    "collapsed": true
   },
   "outputs": [],
   "source": [
    "train_Pxy, train_Py = trainNBS(dataset, datalabel, wordVec)"
   ]
  },
  {
   "cell_type": "code",
   "execution_count": 9,
   "metadata": {},
   "outputs": [
    {
     "name": "stdout",
     "output_type": "stream",
     "text": [
      "x|y\n",
      " [[1.         0.33333333 0.33333333 0.33333333 0.         0.33333333\n",
      "  0.         0.33333333 0.66666667 0.33333333 0.33333333 0.\n",
      "  0.33333333 0.33333333 0.33333333 0.33333333 0.33333333 0.33333333\n",
      "  0.33333333 0.33333333 0.         0.         0.33333333 0.33333333\n",
      "  0.33333333 0.         0.         0.33333333 0.         0.\n",
      "  0.         0.        ]\n",
      " [0.         0.         0.         0.         0.33333333 0.33333333\n",
      "  0.33333333 0.         0.33333333 0.         0.         0.33333333\n",
      "  0.33333333 0.         0.         0.66666667 0.         0.\n",
      "  0.         0.         1.         0.66666667 0.         0.\n",
      "  0.         0.33333333 0.33333333 0.         0.33333333 0.33333333\n",
      "  0.33333333 0.33333333]]\n",
      "y\n",
      " [0.5 0.5]\n"
     ]
    }
   ],
   "source": [
    "print(\"x|y\\n\", train_Pxy)\n",
    "print(\"y\\n\", train_Py)"
   ]
  },
  {
   "cell_type": "code",
   "execution_count": 10,
   "metadata": {
    "collapsed": true
   },
   "outputs": [],
   "source": [
    "def classifyNBS(testDoc, Pxy, Py, wordVec):\n",
    "    vec = setOfWordVec(wordVec, testDoc)\n",
    "    mat = np.dot([vec], Pxy.T) * Py.reshape(1, -1)\n",
    "    mat = mat.squeeze()\n",
    "    print(mat)\n",
    "    idx = np.argmax(mat)\n",
    "    return idx"
   ]
  },
  {
   "cell_type": "code",
   "execution_count": 11,
   "metadata": {},
   "outputs": [
    {
     "name": "stdout",
     "output_type": "stream",
     "text": [
      "[0.83333333 0.        ]\n",
      "0\n",
      "[0.16666667 0.5       ]\n",
      "1\n"
     ]
    }
   ],
   "source": [
    "''' test naive bayes '''\n",
    "test_words = ['love', 'my', 'dalmation']\n",
    "print(classifyNBS(test_words, train_Pxy, train_Py, wordVec))\n",
    "test_words = ['I', 'stupid']\n",
    "print(classifyNBS(test_words, train_Pxy, train_Py, wordVec))"
   ]
  },
  {
   "cell_type": "markdown",
   "metadata": {},
   "source": [
    "## 使用词袋模型"
   ]
  },
  {
   "cell_type": "code",
   "execution_count": 12,
   "metadata": {
    "collapsed": true
   },
   "outputs": [],
   "source": [
    "def bagOfWordVec(wordVec, words):\n",
    "    N = len(wordVec)\n",
    "    res = [0]*N\n",
    "    for word in words:\n",
    "        if word in wordVec:\n",
    "            res[wordVec.index(word)] += 1\n",
    "    return res"
   ]
  },
  {
   "cell_type": "markdown",
   "metadata": {},
   "source": [
    "## 对样本字词进行拆解"
   ]
  },
  {
   "cell_type": "code",
   "execution_count": 13,
   "metadata": {
    "collapsed": true
   },
   "outputs": [],
   "source": [
    "def text_split(text):\n",
    "    import re\n",
    "    token_list = re.split(r'\\W*', text)\n",
    "    return [token.lower() for token in token_list if len(token) > 2]"
   ]
  },
  {
   "cell_type": "code",
   "execution_count": 14,
   "metadata": {
    "collapsed": true
   },
   "outputs": [],
   "source": [
    "def load_dataset(pos_dir, neg_dir):\n",
    "    import os\n",
    "    \n",
    "    labels = []\n",
    "    dataset = []\n",
    "    \n",
    "    pos_files = os.listdir(pos_dir)\n",
    "    neg_files = os.listdir(neg_dir)\n",
    "    \n",
    "    for file in pos_files:\n",
    "        with open(os.path.join(pos_dir, file), 'r', encoding='ISO-8859-1') as fp:\n",
    "            words = []\n",
    "            line = fp.read()\n",
    "            words.extend(text_split(line))\n",
    "            dataset.append(words)\n",
    "            labels.append(1)\n",
    "    \n",
    "    for file in neg_files:\n",
    "        with open(os.path.join(neg_dir, file), 'r', encoding='ISO-8859-1') as fp:\n",
    "            words = []\n",
    "            line = fp.read()\n",
    "            words.extend(text_split(line))\n",
    "            dataset.append(words)\n",
    "            labels.append(0)\n",
    "    \n",
    "    return dataset, labels"
   ]
  },
  {
   "cell_type": "code",
   "execution_count": 15,
   "metadata": {},
   "outputs": [
    {
     "name": "stdout",
     "output_type": "stream",
     "text": [
      "[['jay', 'stepp', 'commented', 'your', 'status', 'jay', 'wrote', 'the', 'reply', 'this', 'email', 'comment', 'this', 'status', 'see', 'the', 'comment', 'thread', 'follow', 'the', 'link', 'below'], ['yeah', 'ready', 'may', 'not', 'here', 'because', 'jar', 'jar', 'has', 'plane', 'tickets', 'germany', 'for'], ['scifinance', 'now', 'automatically', 'generates', 'gpu', 'enabled', 'pricing', 'risk', 'model', 'source', 'code', 'that', 'runs', '300x', 'faster', 'than', 'serial', 'code', 'using', 'new', 'nvidia', 'fermi', 'class', 'tesla', 'series', 'gpu', 'scifinance', 'derivatives', 'pricing', 'and', 'risk', 'model', 'development', 'tool', 'that', 'automatically', 'generates', 'and', 'gpu', 'enabled', 'source', 'code', 'from', 'concise', 'high', 'level', 'model', 'specifications', 'parallel', 'computing', 'cuda', 'programming', 'expertise', 'required', 'scifinance', 'automatic', 'gpu', 'enabled', 'monte', 'carlo', 'pricing', 'model', 'source', 'code', 'generation', 'capabilities', 'have', 'been', 'significantly', 'extended', 'the', 'latest', 'release', 'this', 'includes'], ['what', 'going', 'there', 'talked', 'john', 'email', 'talked', 'about', 'some', 'computer', 'stuff', 'that', 'went', 'bike', 'riding', 'the', 'rain', 'was', 'not', 'that', 'cold', 'went', 'the', 'museum', 'yesterday', 'was', 'get', 'and', 'they', 'had', 'free', 'food', 'the', 'same', 'time', 'was', 'giants', 'game', 'when', 'got', 'done', 'had', 'take', 'the', 'train', 'with', 'all', 'the', 'giants', 'fans', 'they', 'are', 'drunk'], ['peter', 'the', 'hotels', 'are', 'the', 'ones', 'that', 'rent', 'out', 'the', 'tent', 'they', 'are', 'all', 'lined', 'the', 'hotel', 'grounds', 'much', 'for', 'being', 'one', 'with', 'nature', 'more', 'like', 'being', 'one', 'with', 'couple', 'dozen', 'tour', 'groups', 'and', 'nature', 'have', 'about', '100m', 'pictures', 'from', 'that', 'trip', 'can', 'through', 'them', 'and', 'get', 'you', 'jpgs', 'favorite', 'scenic', 'pictures', 'where', 'are', 'you', 'and', 'jocelyn', 'now', 'new', 'york', 'will', 'you', 'come', 'tokyo', 'for', 'chinese', 'new', 'year', 'perhaps', 'see', 'the', 'two', 'you', 'then', 'will', 'thailand', 'for', 'winter', 'holiday', 'see', 'mom', 'take', 'care'], ['yay', 'you', 'both', 'doing', 'fine', 'working', 'mba', 'design', 'strategy', 'cca', 'top', 'art', 'school', 'new', 'program', 'focusing', 'more', 'right', 'brained', 'creative', 'and', 'strategic', 'approach', 'management', 'the', 'way', 'done', 'today'], ['thought', 'about', 'this', 'and', 'think', 'possible', 'should', 'get', 'another', 'lunch', 'have', 'car', 'now', 'and', 'could', 'come', 'pick', 'you', 'this', 'time', 'does', 'this', 'wednesday', 'work', 'can', 'have', 'signed', 'copy', 'you', 'book'], ['benoit', 'mandelbrot', '1924', '2010', 'benoit', 'mandelbrot', '1924', '2010', 'wilmott', 'team', 'benoit', 'mandelbrot', 'the', 'mathematician', 'the', 'father', 'fractal', 'mathematics', 'and', 'advocate', 'more', 'sophisticated', 'modelling', 'quantitative', 'finance', 'died', '14th', 'october', '2010', 'aged', 'wilmott', 'magazine', 'has', 'often', 'featured', 'mandelbrot', 'his', 'ideas', 'and', 'the', 'work', 'others', 'inspired', 'his', 'fundamental', 'insights', 'you', 'must', 'logged', 'view', 'these', 'articles', 'from', 'past', 'issues', 'wilmott', 'magazine'], ['linkedin', 'kerry', 'haloney', 'requested', 'add', 'you', 'connection', 'linkedin', 'peter', 'like', 'add', 'you', 'professional', 'network', 'linkedin', 'kerry', 'haloney'], ['thanks', 'peter', 'definitely', 'check', 'this', 'how', 'your', 'book', 'going', 'heard', 'chapter', 'came', 'and', 'was', 'good', 'shape', 'hope', 'you', 'are', 'doing', 'well', 'cheers', 'troy']]\n",
      "[1, 1, 1, 1, 1, 1, 1, 1, 1, 1]\n"
     ]
    },
    {
     "name": "stderr",
     "output_type": "stream",
     "text": [
      "/home/ubuntu/anaconda3/envs/torch/lib/python3.6/re.py:212: FutureWarning: split() requires a non-empty pattern match.\n",
      "  return _compile(pattern, flags).split(string, maxsplit)\n"
     ]
    }
   ],
   "source": [
    "pos_dir = './email/ham'\n",
    "neg_dir = './email/spam'\n",
    "dataset, labels = load_dataset(pos_dir, neg_dir)\n",
    "\n",
    "print(dataset[:10])\n",
    "print(labels[:10])"
   ]
  },
  {
   "cell_type": "code",
   "execution_count": 29,
   "metadata": {},
   "outputs": [
    {
     "name": "stdout",
     "output_type": "stream",
     "text": [
      "[2, 12, 13, 11, 40, 7, 3, 14, 35, 33, 16, 45, 39, 8, 34, 27, 29, 24, 47, 21, 31, 6, 37, 43, 22, 10, 20, 41, 26, 23, 42, 36, 5, 46, 18, 44, 38, 0, 4, 17, 48, 15, 9, 25, 32, 30, 28, 1, 49, 19]\n",
      "[['scifinance', 'now', 'automatically', 'generates', 'gpu', 'enabled', 'pricing', 'risk', 'model', 'source', 'code', 'that', 'runs', '300x', 'faster', 'than', 'serial', 'code', 'using', 'new', 'nvidia', 'fermi', 'class', 'tesla', 'series', 'gpu', 'scifinance', 'derivatives', 'pricing', 'and', 'risk', 'model', 'development', 'tool', 'that', 'automatically', 'generates', 'and', 'gpu', 'enabled', 'source', 'code', 'from', 'concise', 'high', 'level', 'model', 'specifications', 'parallel', 'computing', 'cuda', 'programming', 'expertise', 'required', 'scifinance', 'automatic', 'gpu', 'enabled', 'monte', 'carlo', 'pricing', 'model', 'source', 'code', 'generation', 'capabilities', 'have', 'been', 'significantly', 'extended', 'the', 'latest', 'release', 'this', 'includes'], ['peter', 'with', 'jose', 'out', 'town', 'you', 'want', 'meet', 'once', 'while', 'keep', 'things', 'going', 'and', 'some', 'interesting', 'stuff', 'let', 'know', 'eugene'], ['there', 'was', 'guy', 'the', 'gas', 'station', 'who', 'told', 'that', 'knew', 'mandarin', 'and', 'python', 'could', 'get', 'job', 'with', 'the', 'fbi'], ['will', 'there', 'the', 'latest'], ['get', 'off', 'online', 'watchesstore', 'discount', 'watches', 'for', 'all', 'famous', 'brands', 'watches', 'arolexbvlgari', 'dior', 'hermes', 'oris', 'cartier', 'and', 'more', 'brands', 'louis', 'vuitton', 'bags', 'wallets', 'gucci', 'bags', 'tiffany', 'jewerly', 'enjoy', 'full', 'year', 'warranty', 'shipment', 'via', 'reputable', 'courier', 'fedex', 'ups', 'dhl', 'and', 'ems', 'speedpost', 'you', 'will', '100', 'recieve', 'your', 'order']]\n",
      "[1, 1, 1, 1, 0]\n"
     ]
    }
   ],
   "source": [
    "'''\n",
    "shuffled the dataset and labels\n",
    "'''\n",
    "index = list(range(len(labels)))\n",
    "random.shuffle(index)\n",
    "\n",
    "print(index)\n",
    "dataset_new = []\n",
    "labels_new = []\n",
    "for i in index:\n",
    "    dataset_new.append(dataset[i])\n",
    "    labels_new.append(labels[i])\n",
    "\n",
    "print(dataset_new[:5])\n",
    "print(labels_new[:5])"
   ]
  },
  {
   "cell_type": "code",
   "execution_count": 30,
   "metadata": {
    "collapsed": true
   },
   "outputs": [],
   "source": [
    "'''\n",
    "split them to train set and test set\n",
    "'''\n",
    "N = int(len(labels)*0.8)\n",
    "train_dataset = dataset_new[:N]\n",
    "train_labels  = labels_new[:N]\n",
    "\n",
    "test_dataset = dataset_new[N+1:]\n",
    "test_labels  = labels_new[N+1:]"
   ]
  },
  {
   "cell_type": "code",
   "execution_count": 31,
   "metadata": {},
   "outputs": [
    {
     "name": "stdout",
     "output_type": "stream",
     "text": [
      "554\n"
     ]
    }
   ],
   "source": [
    "wordVec = buildWordVec(train_dataset)\n",
    "print(len(wordVec))"
   ]
  },
  {
   "cell_type": "code",
   "execution_count": 34,
   "metadata": {
    "collapsed": true
   },
   "outputs": [],
   "source": [
    "def trainNBS1(train_data, train_lables, wordVec):\n",
    "    ''' set of train labels '''\n",
    "    label_v = list(set(train_lables))\n",
    "    label_N = len(label_v)\n",
    "    vec_len = len(wordVec)\n",
    "    Ps = np.zeros((label_N, vec_len))\n",
    "    Ns = np.zeros((label_N, 1))\n",
    "    for data, label in zip(train_data, train_lables):\n",
    "        vec = bagOfWordVec(wordVec, data)\n",
    "        idx = label_v.index(label)\n",
    "        Ps[idx] += np.array(vec)\n",
    "        Ns[idx] += 1\n",
    "    return Ps/Ns, Ns.squeeze()/len(train_lables)\n",
    "\n",
    "def classifyNBS1(testDoc, Pxy, Py, wordVec):\n",
    "    vec = bagOfWordVec(wordVec, testDoc)\n",
    "    mat = np.dot([vec], Pxy.T) * Py.reshape(1, -1)\n",
    "    mat = mat.squeeze()\n",
    "    print(mat)\n",
    "    idx = np.argmax(mat)\n",
    "    return idx"
   ]
  },
  {
   "cell_type": "code",
   "execution_count": 35,
   "metadata": {},
   "outputs": [
    {
     "name": "stdout",
     "output_type": "stream",
     "text": [
      "[2.125 7.3  ]\n",
      "[0.625 2.175]\n",
      "[1.9   0.975]\n",
      "[1.3   2.725]\n",
      "[0.9 0.2]\n",
      "[8.025 2.225]\n",
      "[0.325 0.375]\n",
      "[4.5  2.25]\n",
      "[ 6.1 19.6]\n",
      ">>> right/all: 8/9\n",
      "0.8888888888888888\n"
     ]
    }
   ],
   "source": [
    "Pxy, Py = trainNBS1(train_dataset, train_labels, wordVec)\n",
    "\n",
    "cur = 0\n",
    "for i in range(len(test_dataset)):\n",
    "    test_data = test_dataset[i]\n",
    "    test_label = test_labels[i]\n",
    "    l = classifyNBS1(test_data, Pxy, Py, wordVec)\n",
    "    if l == test_label:\n",
    "        cur+=1\n",
    "print(\">>> right/all: {}/{}\".format(cur, len(test_dataset)))\n",
    "print(cur/len(test_dataset))"
   ]
  },
  {
   "cell_type": "code",
   "execution_count": null,
   "metadata": {
    "collapsed": true
   },
   "outputs": [],
   "source": []
  }
 ],
 "metadata": {
  "kernelspec": {
   "display_name": "Python 3",
   "language": "python",
   "name": "python3"
  },
  "language_info": {
   "codemirror_mode": {
    "name": "ipython",
    "version": 3
   },
   "file_extension": ".py",
   "mimetype": "text/x-python",
   "name": "python",
   "nbconvert_exporter": "python",
   "pygments_lexer": "ipython3",
   "version": "3.6.2"
  }
 },
 "nbformat": 4,
 "nbformat_minor": 2
}
