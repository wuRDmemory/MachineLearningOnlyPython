{
 "cells": [
  {
   "cell_type": "markdown",
   "metadata": {},
   "source": [
    "## 导入必要的库"
   ]
  },
  {
   "cell_type": "code",
   "execution_count": 1,
   "metadata": {},
   "outputs": [],
   "source": [
    "%matplotlib inline\n",
    "\n",
    "import numpy as np\n",
    "from math import *\n",
    "from matplotlib import pyplot as plt"
   ]
  },
  {
   "cell_type": "code",
   "execution_count": 2,
   "metadata": {},
   "outputs": [],
   "source": [
    "def loadDataSet():\n",
    "    postingList=[['my', 'dog', 'has', 'flea', 'problems', 'help', 'please'],\n",
    "                 ['maybe', 'not', 'take', 'him', 'to', 'dog', 'park', 'stupid'],\n",
    "                 ['my', 'dalmation', 'is', 'so', 'cute', 'I', 'love', 'him'],\n",
    "                 ['stop', 'posting', 'stupid', 'worthless', 'garbage'],\n",
    "                 ['mr', 'licks', 'ate', 'my', 'steak', 'how', 'to', 'stop', 'him'],\n",
    "                 ['quit', 'buying', 'worthless', 'dog', 'food', 'stupid']]\n",
    "    classVec = [0,1,0,1,0,1]    #1 is abusive, 0 not\n",
    "    return postingList,classVec"
   ]
  },
  {
   "cell_type": "markdown",
   "metadata": {},
   "source": [
    "## 根据样本生成词向量\n",
    "这里使用map也可以，使用set也可以"
   ]
  },
  {
   "cell_type": "code",
   "execution_count": 9,
   "metadata": {},
   "outputs": [],
   "source": [
    "def buildWordVec(wordLists):\n",
    "    wordVec = set([])\n",
    "    for words in wordLists:\n",
    "        wordVec = wordVec | set(words)\n",
    "    return list(wordVec)"
   ]
  },
  {
   "cell_type": "code",
   "execution_count": 12,
   "metadata": {},
   "outputs": [
    {
     "name": "stdout",
     "output_type": "stream",
     "text": [
      "['licks', 'dog', 'quit', 'how', 'posting', 'problems', 'has', 'not', 'ate', 'steak', 'buying', 'park', 'help', 'flea', 'him', 'food', 'my', 'please', 'cute', 'stop', 'garbage', 'maybe', 'so', 'I', 'love', 'is', 'take', 'dalmation', 'worthless', 'mr', 'to', 'stupid']\n"
     ]
    }
   ],
   "source": [
    "dataset, datalabel = loadDataSet()\n",
    "wordVec = buildWordVec(dataset)\n",
    "print(wordVec)"
   ]
  },
  {
   "cell_type": "markdown",
   "metadata": {},
   "source": [
    "## 把句子转换为词向量\n",
    "使用list"
   ]
  },
  {
   "cell_type": "code",
   "execution_count": 15,
   "metadata": {},
   "outputs": [],
   "source": [
    "def setOfWordVec(wordVec, words):\n",
    "    N = len(wordVec)\n",
    "    res = [0]*N\n",
    "    for word in words:\n",
    "        if word in wordVec:\n",
    "            res[wordVec.index(word)] = 1\n",
    "    return res"
   ]
  },
  {
   "cell_type": "code",
   "execution_count": 18,
   "metadata": {},
   "outputs": [
    {
     "name": "stdout",
     "output_type": "stream",
     "text": [
      "['licks', 'dog', 'quit', 'how', 'posting', 'problems', 'has', 'not', 'ate', 'steak', 'buying', 'park', 'help', 'flea', 'him', 'food', 'my', 'please', 'cute', 'stop', 'garbage', 'maybe', 'so', 'I', 'love', 'is', 'take', 'dalmation', 'worthless', 'mr', 'to', 'stupid']\n",
      "[0, 1, 2, 3, 4, 5, 6, 7, 8, 9, 10, 11, 12, 13, 14, 15, 16, 17, 18, 19, 20, 21, 22, 23, 24, 25, 26, 27, 28, 29, 30, 31]\n",
      "[0, 1, 1, 0, 0, 0, 0, 0, 0, 0, 0, 0, 0, 0, 0, 0, 1, 0, 0, 0, 0, 0, 0, 0, 0, 1, 0, 0, 0, 0, 0, 0]\n"
     ]
    }
   ],
   "source": [
    "test_words = ['my', 'dog', 'is', 'quit']\n",
    "test_res = setOfWordVec(wordVec, test_words)\n",
    "index = list(range(len(wordVec)))\n",
    "print(wordVec)\n",
    "print(index)\n",
    "print(test_res)"
   ]
  },
  {
   "cell_type": "code",
   "execution_count": null,
   "metadata": {},
   "outputs": [],
   "source": []
  }
 ],
 "metadata": {
  "kernelspec": {
   "display_name": "Python 3",
   "language": "python",
   "name": "python3"
  },
  "language_info": {
   "codemirror_mode": {
    "name": "ipython",
    "version": 3
   },
   "file_extension": ".py",
   "mimetype": "text/x-python",
   "name": "python",
   "nbconvert_exporter": "python",
   "pygments_lexer": "ipython3",
   "version": "3.6.5"
  }
 },
 "nbformat": 4,
 "nbformat_minor": 2
}
