{
 "cells": [
  {
   "cell_type": "markdown",
   "metadata": {},
   "source": [
    "## 导入必要的库"
   ]
  },
  {
   "cell_type": "code",
   "execution_count": 54,
   "metadata": {},
   "outputs": [],
   "source": [
    "%matplotlib inline\n",
    "\n",
    "import random\n",
    "import numpy as np\n",
    "from math import *\n",
    "from matplotlib import pyplot as plt"
   ]
  },
  {
   "cell_type": "code",
   "execution_count": 2,
   "metadata": {},
   "outputs": [],
   "source": [
    "def loadDataSet():\n",
    "    postingList=[['my', 'dog', 'has', 'flea', 'problems', 'help', 'please'],\n",
    "                 ['maybe', 'not', 'take', 'him', 'to', 'dog', 'park', 'stupid'],\n",
    "                 ['my', 'dalmation', 'is', 'so', 'cute', 'I', 'love', 'him'],\n",
    "                 ['stop', 'posting', 'stupid', 'worthless', 'garbage'],\n",
    "                 ['mr', 'licks', 'ate', 'my', 'steak', 'how', 'to', 'stop', 'him'],\n",
    "                 ['quit', 'buying', 'worthless', 'dog', 'food', 'stupid']]\n",
    "    classVec = [0,1,0,1,0,1]    #1 is abusive, 0 not\n",
    "    return postingList,classVec"
   ]
  },
  {
   "cell_type": "markdown",
   "metadata": {},
   "source": [
    "## 根据样本生成词向量\n",
    "这里使用map也可以，使用set也可以"
   ]
  },
  {
   "cell_type": "code",
   "execution_count": 3,
   "metadata": {},
   "outputs": [],
   "source": [
    "def buildWordVec(wordLists):\n",
    "    wordVec = set([])\n",
    "    for words in wordLists:\n",
    "        wordVec = wordVec | set(words)\n",
    "    return list(wordVec)"
   ]
  },
  {
   "cell_type": "code",
   "execution_count": 4,
   "metadata": {},
   "outputs": [
    {
     "name": "stdout",
     "output_type": "stream",
     "text": [
      "['dog', 'please', 'I', 'park', 'quit', 'not', 'so', 'stupid', 'worthless', 'him', 'maybe', 'problems', 'help', 'dalmation', 'ate', 'buying', 'has', 'my', 'licks', 'to', 'garbage', 'how', 'love', 'cute', 'posting', 'mr', 'food', 'flea', 'stop', 'steak', 'take', 'is']\n"
     ]
    }
   ],
   "source": [
    "dataset, datalabel = loadDataSet()\n",
    "wordVec = buildWordVec(dataset)\n",
    "print(wordVec)"
   ]
  },
  {
   "cell_type": "markdown",
   "metadata": {},
   "source": [
    "## 把句子转换为词向量\n",
    "使用list"
   ]
  },
  {
   "cell_type": "code",
   "execution_count": 5,
   "metadata": {},
   "outputs": [],
   "source": [
    "def setOfWordVec(wordVec, words):\n",
    "    N = len(wordVec)\n",
    "    res = [0]*N\n",
    "    for word in words:\n",
    "        if word in wordVec:\n",
    "            res[wordVec.index(word)] = 1\n",
    "    return res"
   ]
  },
  {
   "cell_type": "code",
   "execution_count": 6,
   "metadata": {},
   "outputs": [
    {
     "name": "stdout",
     "output_type": "stream",
     "text": [
      "['dog', 'please', 'I', 'park', 'quit', 'not', 'so', 'stupid', 'worthless', 'him', 'maybe', 'problems', 'help', 'dalmation', 'ate', 'buying', 'has', 'my', 'licks', 'to', 'garbage', 'how', 'love', 'cute', 'posting', 'mr', 'food', 'flea', 'stop', 'steak', 'take', 'is']\n",
      "[0, 1, 2, 3, 4, 5, 6, 7, 8, 9, 10, 11, 12, 13, 14, 15, 16, 17, 18, 19, 20, 21, 22, 23, 24, 25, 26, 27, 28, 29, 30, 31]\n",
      "[1, 0, 0, 0, 1, 0, 0, 0, 0, 0, 0, 0, 0, 0, 0, 0, 0, 1, 0, 0, 0, 0, 0, 0, 0, 0, 0, 0, 0, 0, 0, 1]\n"
     ]
    }
   ],
   "source": [
    "test_words = ['my', 'dog', 'is', 'quit']\n",
    "test_res = setOfWordVec(wordVec, test_words)\n",
    "index = list(range(len(wordVec)))\n",
    "print(wordVec)\n",
    "print(index)\n",
    "print(test_res)"
   ]
  },
  {
   "cell_type": "markdown",
   "metadata": {},
   "source": [
    "## 训练函数"
   ]
  },
  {
   "cell_type": "code",
   "execution_count": 7,
   "metadata": {},
   "outputs": [],
   "source": [
    "def trainNBS(train_data, train_lables, wordVec):\n",
    "    ''' set of train labels '''\n",
    "    label_v = list(set(train_lables))\n",
    "    label_N = len(label_v)\n",
    "    vec_len = len(wordVec)\n",
    "    Ps = np.zeros((label_N, vec_len))\n",
    "    Ns = np.zeros((label_N, 1))\n",
    "    for data, label in zip(train_data, train_lables):\n",
    "        vec = setOfWordVec(wordVec, data)\n",
    "        idx = label_v.index(label)\n",
    "        Ps[idx] += np.array(vec)\n",
    "        Ns[idx] += 1\n",
    "    return Ps/Ns, Ns.squeeze()/len(train_lables)"
   ]
  },
  {
   "cell_type": "code",
   "execution_count": 8,
   "metadata": {},
   "outputs": [],
   "source": [
    "train_Pxy, train_Py = trainNBS(dataset, datalabel, wordVec)"
   ]
  },
  {
   "cell_type": "code",
   "execution_count": 9,
   "metadata": {},
   "outputs": [
    {
     "name": "stdout",
     "output_type": "stream",
     "text": [
      "x|y\n",
      " [[0.33333333 0.33333333 0.33333333 0.         0.         0.\n",
      "  0.33333333 0.         0.         0.66666667 0.         0.33333333\n",
      "  0.33333333 0.33333333 0.33333333 0.         0.33333333 1.\n",
      "  0.33333333 0.33333333 0.         0.33333333 0.33333333 0.33333333\n",
      "  0.         0.33333333 0.         0.33333333 0.33333333 0.33333333\n",
      "  0.         0.33333333]\n",
      " [0.66666667 0.         0.         0.33333333 0.33333333 0.33333333\n",
      "  0.         1.         0.66666667 0.33333333 0.33333333 0.\n",
      "  0.         0.         0.         0.33333333 0.         0.\n",
      "  0.         0.33333333 0.33333333 0.         0.         0.\n",
      "  0.33333333 0.         0.33333333 0.         0.33333333 0.\n",
      "  0.33333333 0.        ]]\n",
      "y\n",
      " [0.5 0.5]\n"
     ]
    }
   ],
   "source": [
    "print(\"x|y\\n\", train_Pxy)\n",
    "print(\"y\\n\", train_Py)"
   ]
  },
  {
   "cell_type": "code",
   "execution_count": 10,
   "metadata": {},
   "outputs": [],
   "source": [
    "def classifyNBS(testDoc, Pxy, Py, wordVec):\n",
    "    vec = setOfWordVec(wordVec, testDoc)\n",
    "    mat = np.dot([vec], Pxy.T) * Py.reshape(1, -1)\n",
    "    mat = mat.squeeze()\n",
    "    print(mat)\n",
    "    idx = np.argmax(mat)\n",
    "    return idx"
   ]
  },
  {
   "cell_type": "code",
   "execution_count": 11,
   "metadata": {},
   "outputs": [
    {
     "name": "stdout",
     "output_type": "stream",
     "text": [
      "[0.83333333 0.        ]\n",
      "0\n",
      "[0.16666667 0.5       ]\n",
      "1\n"
     ]
    }
   ],
   "source": [
    "''' test naive bayes '''\n",
    "test_words = ['love', 'my', 'dalmation']\n",
    "print(classifyNBS(test_words, train_Pxy, train_Py, wordVec))\n",
    "test_words = ['I', 'stupid']\n",
    "print(classifyNBS(test_words, train_Pxy, train_Py, wordVec))"
   ]
  },
  {
   "cell_type": "markdown",
   "metadata": {},
   "source": [
    "## 使用词袋模型"
   ]
  },
  {
   "cell_type": "code",
   "execution_count": 12,
   "metadata": {},
   "outputs": [],
   "source": [
    "def bagOfWordVec(wordVec, words):\n",
    "    N = len(wordVec)\n",
    "    res = [0]*N\n",
    "    for word in words:\n",
    "        if word in wordVec:\n",
    "            res[wordVec.index(word)] += 1\n",
    "    return res"
   ]
  },
  {
   "cell_type": "markdown",
   "metadata": {},
   "source": [
    "## 对样本字词进行拆解"
   ]
  },
  {
   "cell_type": "code",
   "execution_count": 14,
   "metadata": {},
   "outputs": [],
   "source": [
    "def text_split(text):\n",
    "    import re\n",
    "    token_list = re.split(r'\\W*', text)\n",
    "    return [token.lower() for token in token_list if len(token) > 2]"
   ]
  },
  {
   "cell_type": "code",
   "execution_count": 52,
   "metadata": {},
   "outputs": [],
   "source": [
    "def load_dataset(pos_dir, neg_dir):\n",
    "    import os\n",
    "    \n",
    "    labels = []\n",
    "    dataset = []\n",
    "    \n",
    "    pos_files = os.listdir(pos_dir)\n",
    "    neg_files = os.listdir(neg_dir)\n",
    "    \n",
    "    for file in pos_files:\n",
    "        with open(os.path.join(pos_dir, file), 'r', encoding='ISO-8859-1') as fp:\n",
    "            words = []\n",
    "            line = fp.read()\n",
    "            words.extend(text_split(line))\n",
    "            dataset.append(words)\n",
    "            labels.append(1)\n",
    "    \n",
    "    for file in neg_files:\n",
    "        with open(os.path.join(neg_dir, file), 'r', encoding='ISO-8859-1') as fp:\n",
    "            words = []\n",
    "            line = fp.read()\n",
    "            words.extend(text_split(line))\n",
    "            dataset.append(words)\n",
    "            labels.append(0)\n",
    "    \n",
    "    return dataset, labels"
   ]
  },
  {
   "cell_type": "code",
   "execution_count": 57,
   "metadata": {},
   "outputs": [
    {
     "name": "stdout",
     "output_type": "stream",
     "text": [
      "[['what', 'going', 'there', 'talked', 'john', 'email', 'talked', 'about', 'some', 'computer', 'stuff', 'that', 'went', 'bike', 'riding', 'the', 'rain', 'was', 'not', 'that', 'cold', 'went', 'the', 'museum', 'yesterday', 'was', 'get', 'and', 'they', 'had', 'free', 'food', 'the', 'same', 'time', 'was', 'giants', 'game', 'when', 'got', 'done', 'had', 'take', 'the', 'train', 'with', 'all', 'the', 'giants', 'fans', 'they', 'are', 'drunk'], ['saw', 'this', 'the', 'way', 'the', 'coast', 'thought', 'might', 'like', 'hangzhou', 'huge', 'one', 'day', 'wasn', 'enough', 'but', 'got', 'glimpse', 'went', 'inside', 'the', 'china', 'pavilion', 'expo', 'pretty', 'interesting', 'each', 'province', 'has', 'exhibit'], ['peter', 'sure', 'thing', 'sounds', 'good', 'let', 'know', 'what', 'time', 'would', 'good', 'for', 'you', 'will', 'come', 'prepared', 'with', 'some', 'ideas', 'and', 'can', 'from', 'there', 'regards', 'vivek'], ['this', 'mail', 'was', 'sent', 'from', 'notification', 'only', 'address', 'that', 'cannot', 'accept', 'incoming', 'mail', 'please', 'not', 'reply', 'this', 'message', 'thank', 'you', 'for', 'your', 'online', 'reservation', 'the', 'store', 'you', 'selected', 'has', 'located', 'the', 'item', 'you', 'requested', 'and', 'has', 'placed', 'hold', 'your', 'name', 'please', 'note', 'that', 'all', 'items', 'are', 'held', 'for', 'day', 'please', 'note', 'store', 'prices', 'may', 'differ', 'from', 'those', 'online', 'you', 'have', 'questions', 'need', 'assistance', 'with', 'your', 'reservation', 'please', 'contact', 'the', 'store', 'the', 'phone', 'number', 'listed', 'below', 'you', 'can', 'also', 'access', 'store', 'information', 'such', 'store', 'hours', 'and', 'location', 'the', 'web', 'http', 'www', 'borders', 'com', 'online', 'store', 'storedetailview_98'], ['will', 'there', 'the', 'latest'], ['yeah', 'ready', 'may', 'not', 'here', 'because', 'jar', 'jar', 'has', 'plane', 'tickets', 'germany', 'for'], ['jay', 'stepp', 'commented', 'your', 'status', 'jay', 'wrote', 'the', 'reply', 'this', 'email', 'comment', 'this', 'status', 'see', 'the', 'comment', 'thread', 'follow', 'the', 'link', 'below'], ['peter', 'these', 'are', 'the', 'only', 'good', 'scenic', 'ones', 'and', 'too', 'bad', 'there', 'was', 'girl', 'back', 'one', 'them', 'just', 'try', 'enjoy', 'the', 'blue', 'sky'], ['scifinance', 'now', 'automatically', 'generates', 'gpu', 'enabled', 'pricing', 'risk', 'model', 'source', 'code', 'that', 'runs', '300x', 'faster', 'than', 'serial', 'code', 'using', 'new', 'nvidia', 'fermi', 'class', 'tesla', 'series', 'gpu', 'scifinance', 'derivatives', 'pricing', 'and', 'risk', 'model', 'development', 'tool', 'that', 'automatically', 'generates', 'and', 'gpu', 'enabled', 'source', 'code', 'from', 'concise', 'high', 'level', 'model', 'specifications', 'parallel', 'computing', 'cuda', 'programming', 'expertise', 'required', 'scifinance', 'automatic', 'gpu', 'enabled', 'monte', 'carlo', 'pricing', 'model', 'source', 'code', 'generation', 'capabilities', 'have', 'been', 'significantly', 'extended', 'the', 'latest', 'release', 'this', 'includes'], ['there', 'was', 'guy', 'the', 'gas', 'station', 'who', 'told', 'that', 'knew', 'mandarin', 'and', 'python', 'could', 'get', 'job', 'with', 'the', 'fbi']]\n",
      "[1, 1, 1, 1, 1, 1, 1, 1, 1, 1]\n"
     ]
    },
    {
     "name": "stderr",
     "output_type": "stream",
     "text": [
      "/home/ubuntu/anaconda3/lib/python3.6/re.py:212: FutureWarning: split() requires a non-empty pattern match.\n",
      "  return _compile(pattern, flags).split(string, maxsplit)\n"
     ]
    }
   ],
   "source": [
    "pos_dir = './email/ham'\n",
    "neg_dir = './email/spam'\n",
    "dataset, labels = load_dataset(pos_dir, neg_dir)\n",
    "\n",
    "print(dataset[:10])\n",
    "print(labels[:10])"
   ]
  },
  {
   "cell_type": "code",
   "execution_count": 67,
   "metadata": {},
   "outputs": [
    {
     "name": "stdout",
     "output_type": "stream",
     "text": [
      "[4, 28, 30, 17, 43, 24, 16, 10, 26, 42, 49, 2, 0, 14, 9, 47, 33, 29, 7, 32, 1, 38, 45, 48, 25, 35, 8, 40, 36, 31, 18, 46, 23, 15, 39, 20, 41, 11, 37, 44, 13, 22, 3, 34, 6, 27, 19, 12, 21, 5]\n",
      "[['will', 'there', 'the', 'latest'], ['you', 'have', 'everything', 'gain', 'incredib1e', 'gains', 'length', 'inches', 'yourpenis', 'permanantly', 'amazing', 'increase', 'thickness', 'yourpenis', 'betterejacu1ation', 'control', 'experience', 'rock', 'harderecetions', 'explosive', 'intenseorgasns', 'increase', 'volume', 'ofejacu1ate', 'doctor', 'designed', 'and', 'endorsed', '100', 'herbal', '100', 'natural', '100', 'safe'], ['you', 'have', 'everything', 'gain', 'incredib1e', 'gains', 'length', 'inches', 'yourpenis', 'permanantly', 'amazing', 'increase', 'thickness', 'yourpenis', 'betterejacu1ation', 'control', 'experience', 'rock', 'harderecetions', 'explosive', 'intenseorgasns', 'increase', 'volume', 'ofejacu1ate', 'doctor', 'designed', 'and', 'endorsed', '100', 'herbal', '100', 'natural', '100', 'safe'], ['thanks', 'peter', 'definitely', 'check', 'this', 'how', 'your', 'book', 'going', 'heard', 'chapter', 'came', 'and', 'was', 'good', 'shape', 'hope', 'you', 'are', 'doing', 'well', 'cheers', 'troy'], ['ordercializviagra', 'online', 'save', '0nline', 'pharmacy', 'noprescription', 'required', 'buy', 'canadian', 'drugs', 'wholesale', 'prices', 'and', 'save', 'fda', 'approved', 'drugs', 'superb', 'quality', 'drugs', 'only', 'accept', 'all', 'major', 'credit', 'cards']]\n",
      "[1, 0, 0, 1, 0]\n"
     ]
    }
   ],
   "source": [
    "'''\n",
    "shuffled the dataset and labels\n",
    "'''\n",
    "index = list(range(len(labels)))\n",
    "random.shuffle(index)\n",
    "\n",
    "print(index)\n",
    "dataset_new = []\n",
    "labels_new = []\n",
    "for i in index:\n",
    "    dataset_new.append(dataset[i])\n",
    "    labels_new.append(labels[i])\n",
    "\n",
    "print(dataset_new[:5])\n",
    "print(labels_new[:5])"
   ]
  },
  {
   "cell_type": "code",
   "execution_count": null,
   "metadata": {},
   "outputs": [],
   "source": []
  }
 ],
 "metadata": {
  "kernelspec": {
   "display_name": "Python 3",
   "language": "python",
   "name": "python3"
  },
  "language_info": {
   "codemirror_mode": {
    "name": "ipython",
    "version": 3
   },
   "file_extension": ".py",
   "mimetype": "text/x-python",
   "name": "python",
   "nbconvert_exporter": "python",
   "pygments_lexer": "ipython3",
   "version": "3.6.5"
  }
 },
 "nbformat": 4,
 "nbformat_minor": 2
}
