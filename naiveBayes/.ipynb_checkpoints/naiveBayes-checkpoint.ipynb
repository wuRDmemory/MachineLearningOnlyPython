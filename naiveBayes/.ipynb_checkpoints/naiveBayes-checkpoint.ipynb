{
 "cells": [
  {
   "cell_type": "markdown",
   "metadata": {},
   "source": [
    "## 导入必要的库"
   ]
  },
  {
   "cell_type": "code",
   "execution_count": 1,
   "metadata": {},
   "outputs": [],
   "source": [
    "%matplotlib inline\n",
    "\n",
    "import numpy as np\n",
    "from math import *\n",
    "from matplotlib import pyplot as plt"
   ]
  },
  {
   "cell_type": "code",
   "execution_count": 2,
   "metadata": {},
   "outputs": [],
   "source": [
    "def loadDataSet():\n",
    "    postingList=[['my', 'dog', 'has', 'flea', 'problems', 'help', 'please'],\n",
    "                 ['maybe', 'not', 'take', 'him', 'to', 'dog', 'park', 'stupid'],\n",
    "                 ['my', 'dalmation', 'is', 'so', 'cute', 'I', 'love', 'him'],\n",
    "                 ['stop', 'posting', 'stupid', 'worthless', 'garbage'],\n",
    "                 ['mr', 'licks', 'ate', 'my', 'steak', 'how', 'to', 'stop', 'him'],\n",
    "                 ['quit', 'buying', 'worthless', 'dog', 'food', 'stupid']]\n",
    "    classVec = [0,1,0,1,0,1]    #1 is abusive, 0 not\n",
    "    return postingList,classVec"
   ]
  },
  {
   "cell_type": "markdown",
   "metadata": {},
   "source": [
    "## 根据样本生成词向量\n",
    "这里使用map也可以，使用set也可以"
   ]
  },
  {
   "cell_type": "code",
   "execution_count": 3,
   "metadata": {},
   "outputs": [],
   "source": [
    "def buildWordVec(wordLists):\n",
    "    wordVec = set([])\n",
    "    for words in wordLists:\n",
    "        wordVec = wordVec | set(words)\n",
    "    return list(wordVec)"
   ]
  },
  {
   "cell_type": "code",
   "execution_count": 4,
   "metadata": {},
   "outputs": [
    {
     "name": "stdout",
     "output_type": "stream",
     "text": [
      "['park', 'posting', 'problems', 'dog', 'food', 'stupid', 'has', 'is', 'mr', 'how', 'help', 'steak', 'not', 'so', 'dalmation', 'quit', 'garbage', 'ate', 'to', 'maybe', 'him', 'flea', 'buying', 'love', 'stop', 'I', 'please', 'licks', 'take', 'worthless', 'cute', 'my']\n"
     ]
    }
   ],
   "source": [
    "dataset, datalabel = loadDataSet()\n",
    "wordVec = buildWordVec(dataset)\n",
    "print(wordVec)"
   ]
  },
  {
   "cell_type": "markdown",
   "metadata": {},
   "source": [
    "## 把句子转换为词向量\n",
    "使用list"
   ]
  },
  {
   "cell_type": "code",
   "execution_count": 5,
   "metadata": {},
   "outputs": [],
   "source": [
    "def setOfWordVec(wordVec, words):\n",
    "    N = len(wordVec)\n",
    "    res = [0]*N\n",
    "    for word in words:\n",
    "        if word in wordVec:\n",
    "            res[wordVec.index(word)] = 1\n",
    "    return res"
   ]
  },
  {
   "cell_type": "code",
   "execution_count": 6,
   "metadata": {},
   "outputs": [
    {
     "name": "stdout",
     "output_type": "stream",
     "text": [
      "['park', 'posting', 'problems', 'dog', 'food', 'stupid', 'has', 'is', 'mr', 'how', 'help', 'steak', 'not', 'so', 'dalmation', 'quit', 'garbage', 'ate', 'to', 'maybe', 'him', 'flea', 'buying', 'love', 'stop', 'I', 'please', 'licks', 'take', 'worthless', 'cute', 'my']\n",
      "[0, 1, 2, 3, 4, 5, 6, 7, 8, 9, 10, 11, 12, 13, 14, 15, 16, 17, 18, 19, 20, 21, 22, 23, 24, 25, 26, 27, 28, 29, 30, 31]\n",
      "[0, 0, 0, 1, 0, 0, 0, 1, 0, 0, 0, 0, 0, 0, 0, 1, 0, 0, 0, 0, 0, 0, 0, 0, 0, 0, 0, 0, 0, 0, 0, 1]\n"
     ]
    }
   ],
   "source": [
    "test_words = ['my', 'dog', 'is', 'quit']\n",
    "test_res = setOfWordVec(wordVec, test_words)\n",
    "index = list(range(len(wordVec)))\n",
    "print(wordVec)\n",
    "print(index)\n",
    "print(test_res)"
   ]
  },
  {
   "cell_type": "markdown",
   "metadata": {},
   "source": [
    "## 训练函数"
   ]
  },
  {
   "cell_type": "code",
   "execution_count": 11,
   "metadata": {},
   "outputs": [],
   "source": [
    "def trainNBS(train_data, train_lables, wordVec):\n",
    "    ''' set of train labels '''\n",
    "    label_v = list(set(train_lables))\n",
    "    label_N = len(label_v)\n",
    "    vec_len = len(wordVec)\n",
    "    Ps = np.zeros((label_N, vec_len))\n",
    "    Ns = np.zeros((label_N, 1))\n",
    "    for data, label in zip(train_data, train_lables):\n",
    "        vec = setOfWordVec(wordVec, data)\n",
    "        idx = label_v.index(label)\n",
    "        Ps[idx] += np.array(vec)\n",
    "        Ns[idx] += 1\n",
    "    return Ps/Ns, Ns.squeeze()/len(train_lables)"
   ]
  },
  {
   "cell_type": "code",
   "execution_count": 12,
   "metadata": {},
   "outputs": [],
   "source": [
    "train_Pxy, train_Py = trainNBS(dataset, datalabel, wordVec)"
   ]
  },
  {
   "cell_type": "code",
   "execution_count": 13,
   "metadata": {},
   "outputs": [
    {
     "name": "stdout",
     "output_type": "stream",
     "text": [
      "x|y\n",
      " [[0.         0.         0.33333333 0.33333333 0.         0.\n",
      "  0.33333333 0.33333333 0.33333333 0.33333333 0.33333333 0.33333333\n",
      "  0.         0.33333333 0.33333333 0.         0.         0.33333333\n",
      "  0.33333333 0.         0.66666667 0.33333333 0.         0.33333333\n",
      "  0.33333333 0.33333333 0.33333333 0.33333333 0.         0.\n",
      "  0.33333333 1.        ]\n",
      " [0.33333333 0.33333333 0.         0.66666667 0.33333333 1.\n",
      "  0.         0.         0.         0.         0.         0.\n",
      "  0.33333333 0.         0.         0.33333333 0.33333333 0.\n",
      "  0.33333333 0.33333333 0.33333333 0.         0.33333333 0.\n",
      "  0.33333333 0.         0.         0.         0.33333333 0.66666667\n",
      "  0.         0.        ]]\n",
      "y\n",
      " [0.5 0.5]\n"
     ]
    }
   ],
   "source": [
    "print(\"x|y\\n\", train_Pxy)\n",
    "print(\"y\\n\", train_Py)"
   ]
  },
  {
   "cell_type": "code",
   "execution_count": 24,
   "metadata": {},
   "outputs": [],
   "source": [
    "def classifyNBS(testDoc, Pxy, Py, wordVec):\n",
    "    vec = setOfWordVec(wordVec, testDoc)\n",
    "    mat = np.dot([vec], Pxy.T) * Py.reshape(1, -1)\n",
    "    mat = mat.squeeze()\n",
    "    print(mat)\n",
    "    idx = np.argmax(mat)\n",
    "    return idx"
   ]
  },
  {
   "cell_type": "code",
   "execution_count": 27,
   "metadata": {},
   "outputs": [
    {
     "name": "stdout",
     "output_type": "stream",
     "text": [
      "[0.83333333 0.        ]\n",
      "0\n",
      "[0.16666667 0.5       ]\n",
      "1\n"
     ]
    }
   ],
   "source": [
    "''' test naive bayes '''\n",
    "test_words = ['love', 'my', 'dalmation']\n",
    "print(classifyNBS(test_words, train_Pxy, train_Py, wordVec))\n",
    "test_words = ['I', 'stupid']\n",
    "print(classifyNBS(test_words, train_Pxy, train_Py, wordVec))"
   ]
  },
  {
   "cell_type": "code",
   "execution_count": null,
   "metadata": {},
   "outputs": [],
   "source": []
  }
 ],
 "metadata": {
  "kernelspec": {
   "display_name": "Python 3",
   "language": "python",
   "name": "python3"
  },
  "language_info": {
   "codemirror_mode": {
    "name": "ipython",
    "version": 3
   },
   "file_extension": ".py",
   "mimetype": "text/x-python",
   "name": "python",
   "nbconvert_exporter": "python",
   "pygments_lexer": "ipython3",
   "version": "3.5.2"
  }
 },
 "nbformat": 4,
 "nbformat_minor": 2
}
